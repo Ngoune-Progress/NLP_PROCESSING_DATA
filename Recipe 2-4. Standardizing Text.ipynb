{
 "cells": [
  {
   "cell_type": "markdown",
   "id": "cbce4577",
   "metadata": {},
   "source": [
    "## Recipe 2-4. Standardizing Text"
   ]
  },
  {
   "cell_type": "code",
   "execution_count": 1,
   "id": "c3237fcd",
   "metadata": {},
   "outputs": [],
   "source": [
    "look_up ={\"nlp\":\"natural language processing\",\"ur\":\"your\",\"wbu\":\"what about you\"}"
   ]
  },
  {
   "cell_type": "code",
   "execution_count": 17,
   "id": "11729b85",
   "metadata": {},
   "outputs": [],
   "source": [
    "import re\n",
    "def text_std(input_text):\n",
    "    words = input_text.split()\n",
    "    new_words =[]\n",
    "    for word in words:\n",
    "        word = re.sub(\"[^\\w\\s]\",\"\",word)\n",
    "        if word.lower() in look_up:\n",
    "            word = look_up[word.lower()]\n",
    "            new_words.append(word)\n",
    "            new_text = \" \".join(new_words)\n",
    "    return new_text\n",
    "    "
   ]
  },
  {
   "cell_type": "code",
   "execution_count": 18,
   "id": "a6f2e251",
   "metadata": {},
   "outputs": [
    {
     "data": {
      "text/plain": [
       "'natural language processing your'"
      ]
     },
     "execution_count": 18,
     "metadata": {},
     "output_type": "execute_result"
    }
   ],
   "source": [
    "text_std(\"I like nlp it's ur choice\")"
   ]
  },
  {
   "cell_type": "code",
   "execution_count": null,
   "id": "cb89b55a",
   "metadata": {},
   "outputs": [],
   "source": []
  }
 ],
 "metadata": {
  "kernelspec": {
   "display_name": "Python 3 (ipykernel)",
   "language": "python",
   "name": "python3"
  },
  "language_info": {
   "codemirror_mode": {
    "name": "ipython",
    "version": 3
   },
   "file_extension": ".py",
   "mimetype": "text/x-python",
   "name": "python",
   "nbconvert_exporter": "python",
   "pygments_lexer": "ipython3",
   "version": "3.7.16"
  }
 },
 "nbformat": 4,
 "nbformat_minor": 5
}
