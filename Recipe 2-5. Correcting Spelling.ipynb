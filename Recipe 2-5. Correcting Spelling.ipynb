{
 "cells": [
  {
   "cell_type": "markdown",
   "id": "c3ff01a2",
   "metadata": {},
   "source": [
    "## Recipe 2-5. Correcting Spelling"
   ]
  },
  {
   "cell_type": "code",
   "execution_count": 2,
   "id": "419eaaf7",
   "metadata": {},
   "outputs": [],
   "source": [
    "text=['Introduction to NLP','It is likely to be useful, to people','Machine learning is the new electrcity', 'R is good langauage','I likethis book','I want more books like this']"
   ]
  },
  {
   "cell_type": "code",
   "execution_count": 27,
   "id": "db934a11",
   "metadata": {},
   "outputs": [
    {
     "name": "stdout",
     "output_type": "stream",
     "text": [
      "                                    tweet\n",
      "0                     Introduction to NLP\n",
      "1    It is likely to be useful, to people\n",
      "2  Machine learning is the new electrcity\n",
      "3                     R is good langauage\n",
      "4                         I likethis book\n",
      "5             I want more books like this\n"
     ]
    }
   ],
   "source": [
    "import pandas as pd\n",
    "df = pd.DataFrame({'tweet':text})\n",
    "print(df)"
   ]
  },
  {
   "cell_type": "code",
   "execution_count": 4,
   "id": "7b535955",
   "metadata": {},
   "outputs": [
    {
     "name": "stdout",
     "output_type": "stream",
     "text": [
      "Collecting textblob\n",
      "  Downloading textblob-0.17.1-py2.py3-none-any.whl (636 kB)\n",
      "\u001b[2K     \u001b[90m━━━━━━━━━━━━━━━━━━━━━━━━━━━━━━━━━━━━━\u001b[0m \u001b[32m636.8/636.8 kB\u001b[0m \u001b[31m963.9 kB/s\u001b[0m eta \u001b[36m0:00:00\u001b[0m00:01\u001b[0m00:01\u001b[0m\n",
      "\u001b[?25hRequirement already satisfied: nltk>=3.1 in /Users/ngounepeetprogress/opt/anaconda3/envs/deepL/lib/python3.7/site-packages (from textblob) (3.8.1)\n",
      "Requirement already satisfied: joblib in /Users/ngounepeetprogress/opt/anaconda3/envs/deepL/lib/python3.7/site-packages (from nltk>=3.1->textblob) (1.1.1)\n",
      "Requirement already satisfied: click in /Users/ngounepeetprogress/opt/anaconda3/envs/deepL/lib/python3.7/site-packages (from nltk>=3.1->textblob) (8.0.4)\n",
      "Requirement already satisfied: tqdm in /Users/ngounepeetprogress/opt/anaconda3/envs/deepL/lib/python3.7/site-packages (from nltk>=3.1->textblob) (4.65.0)\n",
      "Requirement already satisfied: regex>=2021.8.3 in /Users/ngounepeetprogress/opt/anaconda3/envs/deepL/lib/python3.7/site-packages (from nltk>=3.1->textblob) (2022.10.31)\n",
      "Requirement already satisfied: importlib-metadata in /Users/ngounepeetprogress/opt/anaconda3/envs/deepL/lib/python3.7/site-packages (from click->nltk>=3.1->textblob) (4.11.3)\n",
      "Requirement already satisfied: typing-extensions>=3.6.4 in /Users/ngounepeetprogress/opt/anaconda3/envs/deepL/lib/python3.7/site-packages (from importlib-metadata->click->nltk>=3.1->textblob) (4.4.0)\n",
      "Requirement already satisfied: zipp>=0.5 in /Users/ngounepeetprogress/opt/anaconda3/envs/deepL/lib/python3.7/site-packages (from importlib-metadata->click->nltk>=3.1->textblob) (3.11.0)\n",
      "Installing collected packages: textblob\n",
      "Successfully installed textblob-0.17.1\n"
     ]
    }
   ],
   "source": [
    "!pip install textblob"
   ]
  },
  {
   "cell_type": "code",
   "execution_count": 30,
   "id": "56d215c2",
   "metadata": {},
   "outputs": [
    {
     "data": {
      "text/plain": [
       "0    (I, n, t, r, o, d, u, c, t, i, o, n,  , t, o, ...\n",
       "1    (I, t,  , i, s,  , l, i, k, e, l, y,  , t, o, ...\n",
       "2    (M, a, c, h, i, n, e,  , l, e, a, r, n, i, n, ...\n",
       "3    (R,  , i, s,  , g, o, o, d,  , l, a, n, g, u, ...\n",
       "4        (I,  , l, i, k, e, t, h, i, s,  , b, o, o, k)\n",
       "5    (I,  , w, a, n, t,  , m, o, r, e,  , b, o, o, ...\n",
       "Name: tweet, dtype: object"
      ]
     },
     "execution_count": 30,
     "metadata": {},
     "output_type": "execute_result"
    }
   ],
   "source": [
    "from textblob import TextBlob\n",
    "df['tweet'].apply(lambda x: str(TextBlob(x).correct())"
   ]
  },
  {
   "cell_type": "code",
   "execution_count": 12,
   "id": "017705ce",
   "metadata": {},
   "outputs": [
    {
     "data": {
      "text/plain": [
       "TextBlob(\"Machine learning is the new electricity\")"
      ]
     },
     "execution_count": 12,
     "metadata": {},
     "output_type": "execute_result"
    }
   ],
   "source": [
    "TextBlob(text[2]).correct()"
   ]
  },
  {
   "cell_type": "code",
   "execution_count": 28,
   "id": "4a6f0d63",
   "metadata": {},
   "outputs": [
    {
     "data": {
      "text/plain": [
       "0                       Introduction to NLP\n",
       "1      It is likely to be useful, to people\n",
       "2    Machine learning is the new electrcity\n",
       "3                       R is good langauage\n",
       "4                           I likethis book\n",
       "5               I want more books like this\n",
       "Name: tweet, dtype: object"
      ]
     },
     "execution_count": 28,
     "metadata": {},
     "output_type": "execute_result"
    }
   ],
   "source": [
    "df['tweet']"
   ]
  },
  {
   "cell_type": "code",
   "execution_count": null,
   "id": "f829b3a5",
   "metadata": {},
   "outputs": [],
   "source": []
  }
 ],
 "metadata": {
  "kernelspec": {
   "display_name": "Python 3 (ipykernel)",
   "language": "python",
   "name": "python3"
  },
  "language_info": {
   "codemirror_mode": {
    "name": "ipython",
    "version": 3
   },
   "file_extension": ".py",
   "mimetype": "text/x-python",
   "name": "python",
   "nbconvert_exporter": "python",
   "pygments_lexer": "ipython3",
   "version": "3.7.16"
  }
 },
 "nbformat": 4,
 "nbformat_minor": 5
}
