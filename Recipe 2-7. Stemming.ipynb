{
 "cells": [
  {
   "cell_type": "markdown",
   "id": "73510619",
   "metadata": {},
   "source": [
    "## Recipe 2-7. Stemming"
   ]
  },
  {
   "cell_type": "code",
   "execution_count": 9,
   "id": "f9bf1967",
   "metadata": {},
   "outputs": [],
   "source": [
    "text=['I like fishing','I eat fish','There are many fishes in pound']\n",
    "import pandas as pd\n",
    "\n",
    "df = pd.DataFrame({'tweet':text})"
   ]
  },
  {
   "cell_type": "code",
   "execution_count": 3,
   "id": "22f18ee3",
   "metadata": {},
   "outputs": [],
   "source": [
    "from nltk.stem import PorterStemmer"
   ]
  },
  {
   "cell_type": "code",
   "execution_count": 5,
   "id": "d626cfd1",
   "metadata": {},
   "outputs": [],
   "source": [
    "st = PorterStemmer()"
   ]
  },
  {
   "cell_type": "code",
   "execution_count": 10,
   "id": "67e5dcc0",
   "metadata": {},
   "outputs": [
    {
     "data": {
      "text/plain": [
       "0                       i like fish\n",
       "1                        i eat fish\n",
       "2    there are many fishes in pound\n",
       "Name: tweet, dtype: object"
      ]
     },
     "execution_count": 10,
     "metadata": {},
     "output_type": "execute_result"
    }
   ],
   "source": [
    "df['tweet'].apply(lambda x: st.stem(x))"
   ]
  },
  {
   "cell_type": "code",
   "execution_count": 11,
   "id": "5dfeb300",
   "metadata": {},
   "outputs": [
    {
     "data": {
      "text/plain": [
       "0                     i like fish\n",
       "1                      i eat fish\n",
       "2    there are mani fish in pound\n",
       "Name: tweet, dtype: object"
      ]
     },
     "execution_count": 11,
     "metadata": {},
     "output_type": "execute_result"
    }
   ],
   "source": [
    "df['tweet'].apply(lambda x: \" \".join([st.stem(word) for word in x.split()]))"
   ]
  },
  {
   "cell_type": "code",
   "execution_count": null,
   "id": "3ca4eb6c",
   "metadata": {},
   "outputs": [],
   "source": []
  }
 ],
 "metadata": {
  "kernelspec": {
   "display_name": "Python 3 (ipykernel)",
   "language": "python",
   "name": "python3"
  },
  "language_info": {
   "codemirror_mode": {
    "name": "ipython",
    "version": 3
   },
   "file_extension": ".py",
   "mimetype": "text/x-python",
   "name": "python",
   "nbconvert_exporter": "python",
   "pygments_lexer": "ipython3",
   "version": "3.7.16"
  }
 },
 "nbformat": 4,
 "nbformat_minor": 5
}
