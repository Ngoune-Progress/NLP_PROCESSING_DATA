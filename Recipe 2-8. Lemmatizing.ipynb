{
 "cells": [
  {
   "cell_type": "markdown",
   "id": "e0ddb955",
   "metadata": {},
   "source": [
    "## Recipe 2-8. Lemmatizing"
   ]
  },
  {
   "cell_type": "code",
   "execution_count": 1,
   "id": "a24c26c4",
   "metadata": {},
   "outputs": [
    {
     "name": "stdout",
     "output_type": "stream",
     "text": [
      "                            tweet\n",
      "0                  I like fishing\n",
      "1                      I eat fish\n",
      "2  There are many fishes in pound\n",
      "3                 leaves and leaf\n"
     ]
    }
   ],
   "source": [
    "text=['I like fishing','I eat fish','There are many fishes in pound','leaves and leaf']\n",
    "\n",
    "#convert list to dataframe\n",
    "import pandas as pd\n",
    "df = pd.DataFrame({'tweet':text})\n",
    "print(df)"
   ]
  },
  {
   "cell_type": "code",
   "execution_count": 2,
   "id": "8db6bb45",
   "metadata": {},
   "outputs": [],
   "source": [
    "from textblob import Word\n",
    "\n",
    "df['tweet'] = df['tweet'].apply(lambda x: \" \".join([Word(x).lemmatize() for x in x.split()]))"
   ]
  },
  {
   "cell_type": "code",
   "execution_count": 3,
   "id": "1e9785bd",
   "metadata": {},
   "outputs": [
    {
     "name": "stdout",
     "output_type": "stream",
     "text": [
      "                          tweet\n",
      "0                I like fishing\n",
      "1                    I eat fish\n",
      "2  There are many fish in pound\n",
      "3                 leaf and leaf\n"
     ]
    }
   ],
   "source": [
    "print(df)"
   ]
  },
  {
   "cell_type": "code",
   "execution_count": null,
   "id": "78fa553b",
   "metadata": {},
   "outputs": [],
   "source": []
  }
 ],
 "metadata": {
  "kernelspec": {
   "display_name": "Python 3 (ipykernel)",
   "language": "python",
   "name": "python3"
  },
  "language_info": {
   "codemirror_mode": {
    "name": "ipython",
    "version": 3
   },
   "file_extension": ".py",
   "mimetype": "text/x-python",
   "name": "python",
   "nbconvert_exporter": "python",
   "pygments_lexer": "ipython3",
   "version": "3.7.16"
  }
 },
 "nbformat": 4,
 "nbformat_minor": 5
}
